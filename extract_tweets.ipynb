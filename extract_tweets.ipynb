{
 "cells": [
  {
   "cell_type": "code",
   "execution_count": 1,
   "id": "cd13e33e-c685-4650-a58c-4359ed76dc49",
   "metadata": {},
   "outputs": [
    {
     "name": "stdout",
     "output_type": "stream",
     "text": [
      "The following packages are already present in the pyproject.toml and will be skipped:\n",
      "\n",
      "  • \u001b[36mpandas\u001b[39m\n",
      "\n",
      "If you want to update it to the latest compatible version, you can use `poetry update package`.\n",
      "If you prefer to upgrade it to the latest available version, you can use `poetry add package@latest`.\n",
      "\n",
      "Nothing to add.\n"
     ]
    }
   ],
   "source": [
    "!poetry add pandas"
   ]
  },
  {
   "cell_type": "markdown",
   "id": "ac21c3d0-2882-4090-95bc-c5ae49ff8388",
   "metadata": {},
   "source": [
    "# Import Pandas"
   ]
  },
  {
   "cell_type": "code",
   "execution_count": 2,
   "id": "762373c7-7faa-44bc-a82a-6fd6f28294dc",
   "metadata": {},
   "outputs": [],
   "source": [
    "import pandas as pd"
   ]
  },
  {
   "cell_type": "markdown",
   "id": "ff9bb9fd-1270-4735-bd7c-39dbb08dba99",
   "metadata": {},
   "source": []
  },
  {
   "cell_type": "markdown",
   "id": "4adbfd52-14f7-4966-b5f8-5d64364aad1c",
   "metadata": {},
   "source": [
    "## Load in Tweets"
   ]
  },
  {
   "cell_type": "code",
   "execution_count": 6,
   "id": "d1e8d355-b908-4651-81e2-9437b1d3cb6d",
   "metadata": {},
   "outputs": [],
   "source": [
    "tweets = pd.read_json('tweets.json')"
   ]
  },
  {
   "cell_type": "code",
   "execution_count": 7,
   "id": "d155f33f-52ba-468f-9afb-a931d7119561",
   "metadata": {},
   "outputs": [],
   "source": [
    "list_of_tweets = tweets['tweet']"
   ]
  },
  {
   "cell_type": "markdown",
   "id": "0e856829-db52-463c-81aa-4f8de354d402",
   "metadata": {},
   "source": [
    "Every tweet is like a dict"
   ]
  },
  {
   "cell_type": "code",
   "execution_count": 8,
   "id": "11ab54bb-294d-4869-a243-8dba51ae6c90",
   "metadata": {},
   "outputs": [
    {
     "data": {
      "text/plain": [
       "{'edit_info': {'initial': {'editTweetIds': ['1019776460633014273'],\n",
       "   'editableUntil': '2018-07-19T03:20:29.402Z',\n",
       "   'editsRemaining': '5',\n",
       "   'isEditEligible': True}},\n",
       " 'retweeted': False,\n",
       " 'source': '<a href=\"https://transfaeries.com/\" rel=\"nofollow\">Faebot_02</a>',\n",
       " 'entities': {'hashtags': [], 'symbols': [], 'user_mentions': [], 'urls': []},\n",
       " 'display_text_range': ['0', '38'],\n",
       " 'favorite_count': '0',\n",
       " 'id_str': '1019776460633014273',\n",
       " 'truncated': False,\n",
       " 'retweet_count': '0',\n",
       " 'id': '1019776460633014273',\n",
       " 'created_at': 'Thu Jul 19 02:50:29 +0000 2018',\n",
       " 'favorited': False,\n",
       " 'full_text': 'E∴｡ * ･ﾟ*｡*･ ･ *ﾟ｡ * ･ ﾟ*｡･ﾟ★｡ ☆ﾟ･｡°*.',\n",
       " 'lang': 'ja'}"
      ]
     },
     "execution_count": 8,
     "metadata": {},
     "output_type": "execute_result"
    }
   ],
   "source": [
    "list_of_tweets[9000]"
   ]
  },
  {
   "cell_type": "markdown",
   "id": "b63e1772-e35e-49e0-b195-cc20ba34fd02",
   "metadata": {},
   "source": [
    "finding a specific tweet"
   ]
  },
  {
   "cell_type": "code",
   "execution_count": 53,
   "id": "7217b49e-43e4-449f-95df-f6a7e2ed3683",
   "metadata": {},
   "outputs": [],
   "source": [
    "this_tweet = [ x for x in list_of_tweets if x['id_str'] == '1585439523382632448' ]"
   ]
  },
  {
   "cell_type": "code",
   "execution_count": 54,
   "id": "1122aa09-4cb0-467b-badf-70579b8dbaff",
   "metadata": {},
   "outputs": [
    {
     "data": {
      "text/plain": [
       "[{'edit_info': {'initial': {'editTweetIds': ['1585439523382632448'],\n",
       "    'editableUntil': '2022-10-27T01:43:33.000Z',\n",
       "    'editsRemaining': '5',\n",
       "    'isEditEligible': True}},\n",
       "  'retweeted': False,\n",
       "  'source': '<a href=\"https://transfaeries.com/\" rel=\"nofollow\">Faebot_02</a>',\n",
       "  'entities': {'hashtags': [], 'symbols': [], 'user_mentions': [], 'urls': []},\n",
       "  'display_text_range': ['0', '189'],\n",
       "  'favorite_count': '1',\n",
       "  'id_str': '1585439523382632448',\n",
       "  'truncated': False,\n",
       "  'retweet_count': '0',\n",
       "  'id': '1585439523382632448',\n",
       "  'created_at': 'Thu Oct 27 01:13:33 +0000 2022',\n",
       "  'favorited': False,\n",
       "  'full_text': \"biohazard: 'I try to kill myself. I had a rough couple of days, but it's alright now. I even got some sleep. Still not sure how that happened. But I'm glad it did eventually? Idk man, maybe\",\n",
       "  'lang': 'en'}]"
      ]
     },
     "execution_count": 54,
     "metadata": {},
     "output_type": "execute_result"
    }
   ],
   "source": [
    "this_tweet"
   ]
  },
  {
   "cell_type": "markdown",
   "id": "b22239c3-dc0f-4eb7-a3cf-664abdc22644",
   "metadata": {},
   "source": [
    "The problem is this tweet was replied to, and there appears no indication of that in the metadata"
   ]
  },
  {
   "cell_type": "code",
   "execution_count": 9,
   "id": "14639521-17a4-4f51-a399-a0a1421a7d54",
   "metadata": {},
   "outputs": [],
   "source": [
    "tweets_no_replies = [ x for x in list_of_tweets if not 'in_reply_to_user_id' in x]"
   ]
  },
  {
   "cell_type": "code",
   "execution_count": 13,
   "id": "ea1620f2-4b2e-463b-aad9-36e436f69030",
   "metadata": {},
   "outputs": [],
   "source": [
    "tweet_replies = [ x for x in list_of_tweets if 'in_reply_to_user_id' in x]"
   ]
  },
  {
   "cell_type": "code",
   "execution_count": 14,
   "id": "76d07f32-45af-4529-b299-bef4d1db29e1",
   "metadata": {},
   "outputs": [
    {
     "data": {
      "text/plain": [
       "49663"
      ]
     },
     "execution_count": 14,
     "metadata": {},
     "output_type": "execute_result"
    }
   ],
   "source": [
    "list_of_tweets.size"
   ]
  },
  {
   "cell_type": "code",
   "execution_count": 15,
   "id": "8503b0aa-0999-4c62-a7da-de928a71cbfe",
   "metadata": {},
   "outputs": [
    {
     "data": {
      "text/plain": [
       "48046"
      ]
     },
     "execution_count": 15,
     "metadata": {},
     "output_type": "execute_result"
    }
   ],
   "source": [
    "len(tweets_no_replies)"
   ]
  },
  {
   "cell_type": "code",
   "execution_count": 16,
   "id": "4dd165d2-8e9d-4fd9-b881-af03c108397d",
   "metadata": {},
   "outputs": [
    {
     "data": {
      "text/plain": [
       "1617"
      ]
     },
     "execution_count": 16,
     "metadata": {},
     "output_type": "execute_result"
    }
   ],
   "source": [
    "len(tweet_replies)"
   ]
  },
  {
   "cell_type": "code",
   "execution_count": 9,
   "id": "07e7a848-5a22-4667-b768-aa0611e240bc",
   "metadata": {},
   "outputs": [
    {
     "data": {
      "text/plain": [
       "pandas.core.series.Series"
      ]
     },
     "execution_count": 9,
     "metadata": {},
     "output_type": "execute_result"
    }
   ],
   "source": [
    "type(list_of_tweets)"
   ]
  },
  {
   "cell_type": "code",
   "execution_count": 10,
   "id": "f4dd3df3-b7a8-4f85-a53d-f561aa857953",
   "metadata": {},
   "outputs": [
    {
     "data": {
      "text/plain": [
       "pandas.core.frame.DataFrame"
      ]
     },
     "execution_count": 10,
     "metadata": {},
     "output_type": "execute_result"
    }
   ],
   "source": [
    "type(tweets)"
   ]
  },
  {
   "cell_type": "code",
   "execution_count": 20,
   "id": "a73b5a44-db3d-4ac7-8e4a-0d01c8d2ef4f",
   "metadata": {},
   "outputs": [],
   "source": [
    "retweets = [ x for x in list_of_tweets if x['retweeted'] ]"
   ]
  },
  {
   "cell_type": "code",
   "execution_count": 21,
   "id": "04ae9093-cb14-4b46-a4ae-a0993e066951",
   "metadata": {},
   "outputs": [
    {
     "data": {
      "text/plain": [
       "[]"
      ]
     },
     "execution_count": 21,
     "metadata": {},
     "output_type": "execute_result"
    }
   ],
   "source": [
    "retweets"
   ]
  },
  {
   "cell_type": "markdown",
   "id": "4d729888-f010-4de2-b8f3-1c9966836e49",
   "metadata": {},
   "source": [
    " make the tweets full_text only and combine them"
   ]
  },
  {
   "cell_type": "markdown",
   "id": "d67c3462-23c8-433c-b066-5c66920494ae",
   "metadata": {},
   "source": [
    "For faebot, I think I will keep faer replies"
   ]
  },
  {
   "cell_type": "code",
   "execution_count": 22,
   "id": "ce0c1a8a-1599-47a5-8622-4f6121ef5f44",
   "metadata": {},
   "outputs": [],
   "source": [
    "list_of_tweets = [x for x in list_of_tweets]"
   ]
  },
  {
   "cell_type": "code",
   "execution_count": 23,
   "id": "fcb83e07-fc40-44d4-8503-7a8815d1f2c8",
   "metadata": {},
   "outputs": [],
   "source": [
    "tweets_full_text = [x['full_text'] for x in list_of_tweets]"
   ]
  },
  {
   "cell_type": "code",
   "execution_count": 24,
   "id": "249acea7-bdf6-4490-ba86-62ede26d5584",
   "metadata": {},
   "outputs": [],
   "source": [
    "full_list_of_tweets = tweets_full_text "
   ]
  },
  {
   "cell_type": "code",
   "execution_count": 34,
   "id": "e9224834-12ab-4fee-87b2-75f0b0b990bb",
   "metadata": {},
   "outputs": [
    {
     "data": {
      "text/plain": [
       "49663"
      ]
     },
     "execution_count": 34,
     "metadata": {},
     "output_type": "execute_result"
    }
   ],
   "source": [
    "len(full_list_of_tweets)"
   ]
  },
  {
   "cell_type": "markdown",
   "id": "9ee7e150-df40-4c76-a696-0bf1bb9e0d86",
   "metadata": {},
   "source": [
    "Then dump it into a json file for later use"
   ]
  },
  {
   "cell_type": "code",
   "execution_count": 26,
   "id": "abbe24a9-ee1e-44d8-9f99-75cf0d97398c",
   "metadata": {},
   "outputs": [],
   "source": [
    "import json"
   ]
  },
  {
   "cell_type": "code",
   "execution_count": 27,
   "id": "a26a42ab-ea3c-4e32-82a6-ee5d67897ad5",
   "metadata": {},
   "outputs": [],
   "source": [
    "tweets_json = json.dumps(full_list_of_tweets)\n",
    "output_file = open(\"tweets_full.json\", \"w\")\n",
    "output_file.write(tweets_json)\n",
    "output_file.close()"
   ]
  },
  {
   "cell_type": "markdown",
   "id": "91b59a47-4dec-4ef9-8ceb-1be2e1ad4b98",
   "metadata": {},
   "source": [
    "Trying to use the openAI data preparer tool and it wants pairs, but that should be easily doable.\n",
    "\n",
    "the first few cells were wrongheaded attempts. "
   ]
  },
  {
   "cell_type": "code",
   "execution_count": 28,
   "id": "ceb0b9b4-4512-47d0-b6e0-befcdba147eb",
   "metadata": {},
   "outputs": [],
   "source": [
    "# import math"
   ]
  },
  {
   "cell_type": "code",
   "execution_count": 29,
   "id": "489c791b-289d-4d56-ba7c-f9f16448afcf",
   "metadata": {},
   "outputs": [],
   "source": [
    "# paired_tweets = []\n",
    "# for tweet in tweets_full_text:\n",
    "#     tweet_tokens = tweet.split(' ')\n",
    "#     half_length = math.ceil(len(tweet_tokens)/2)\n",
    "#     tweet_pair = [' '.join(tweet_tokens[:half_length]),' '.join(tweet_tokens[half_length:])]\n",
    "#     paired_tweets.append(tweet_pair)"
   ]
  },
  {
   "cell_type": "code",
   "execution_count": 30,
   "id": "0104a8dd-1606-4d40-b2b8-0dbea3504708",
   "metadata": {},
   "outputs": [],
   "source": [
    "# tweets_json = json.dumps(paired_tweets)\n",
    "# output_file = open(\"paired_tweets_full.json\", \"w\")\n",
    "# output_file.write(tweets_json)\n",
    "# output_file.close()"
   ]
  },
  {
   "cell_type": "markdown",
   "id": "74d66548-33b5-4240-b392-5b50cd4d9abc",
   "metadata": {},
   "source": [
    "This actually generates a file that openai will like."
   ]
  },
  {
   "cell_type": "code",
   "execution_count": 32,
   "id": "2ac8f8e2-8988-4bee-b9bf-e15a01a1a661",
   "metadata": {},
   "outputs": [],
   "source": [
    "output_file = open(\"openai_tweets_full.jsonl\", \"w\")\n",
    "for line in tweets_full_text:\n",
    "    tweet_json=json.dumps({\"prompt\":\"\",\"completion\":line})\n",
    "    output_file.write(tweet_json +\"\\n\")\n",
    "output_file.close()\n",
    "\n"
   ]
  },
  {
   "cell_type": "markdown",
   "id": "5eb4413f-3a62-4ce4-ac04-48b57d7af1b4",
   "metadata": {},
   "source": [
    "Let's get tweets that have been liked, retweeted, or otherwise interacted with. There doesn't seem to be a way to get replied to tweets. so let's hope they're in one of these groups."
   ]
  },
  {
   "cell_type": "code",
   "execution_count": 36,
   "id": "70b63d84-e006-4e6d-be88-480558e76cdc",
   "metadata": {},
   "outputs": [],
   "source": [
    " liked_tweets = [ x for x in tweets_no_replies if 'favorite_count' in x and int(x['favorite_count'])>0 ]"
   ]
  },
  {
   "cell_type": "code",
   "execution_count": 37,
   "id": "bb468961-db3f-4bae-bd06-077b34915b49",
   "metadata": {},
   "outputs": [
    {
     "data": {
      "text/plain": [
       "1552"
      ]
     },
     "execution_count": 37,
     "metadata": {},
     "output_type": "execute_result"
    }
   ],
   "source": [
    "len(liked_tweets)"
   ]
  },
  {
   "cell_type": "code",
   "execution_count": 39,
   "id": "6fce16a4-3cca-4604-995b-c6e18a818802",
   "metadata": {},
   "outputs": [],
   "source": [
    "retweeted_tweets= [ x for x in tweets_no_replies if 'retweet_count' in x and int(x['retweet_count'])>0 ]"
   ]
  },
  {
   "cell_type": "code",
   "execution_count": 40,
   "id": "56c78982-e13d-4a8a-8705-7ef519981165",
   "metadata": {},
   "outputs": [
    {
     "data": {
      "text/plain": [
       "1883"
      ]
     },
     "execution_count": 40,
     "metadata": {},
     "output_type": "execute_result"
    }
   ],
   "source": [
    "len(retweeted_tweets)"
   ]
  },
  {
   "cell_type": "code",
   "execution_count": 55,
   "id": "008b820e-856b-4091-86ab-24f2f2a93b4b",
   "metadata": {},
   "outputs": [],
   "source": [
    "interacted_tweets = liked_tweets + retweeted_tweets"
   ]
  },
  {
   "cell_type": "code",
   "execution_count": 56,
   "id": "0b171a0a-0669-442b-9d01-6be825b6850f",
   "metadata": {},
   "outputs": [
    {
     "data": {
      "text/plain": [
       "3435"
      ]
     },
     "execution_count": 56,
     "metadata": {},
     "output_type": "execute_result"
    }
   ],
   "source": [
    "len(interacted_tweets)"
   ]
  },
  {
   "cell_type": "code",
   "execution_count": 57,
   "id": "c723238e-54cc-4145-ba8a-9c92b7636af6",
   "metadata": {},
   "outputs": [],
   "source": [
    "interacted_tweets_text = [ x[\"full_text\"] for x in interacted_tweets]"
   ]
  },
  {
   "cell_type": "code",
   "execution_count": 59,
   "id": "251df7ad-b364-4c83-82a0-a13b52a99183",
   "metadata": {},
   "outputs": [],
   "source": [
    "interacted_tweets_text = [ *set(interacted_tweets_text) ]"
   ]
  },
  {
   "cell_type": "code",
   "execution_count": 60,
   "id": "f174beec-33ab-48cd-9c36-bafd6997fc79",
   "metadata": {},
   "outputs": [
    {
     "data": {
      "text/plain": [
       "2775"
      ]
     },
     "execution_count": 60,
     "metadata": {},
     "output_type": "execute_result"
    }
   ],
   "source": [
    "len(interacted_tweets_text)"
   ]
  },
  {
   "cell_type": "code",
   "execution_count": 61,
   "id": "d7b25b89-fa12-4380-84cf-36f35d0716f8",
   "metadata": {},
   "outputs": [],
   "source": [
    "output_file = open(\"openai_interacted_tweets_full.jsonl\", \"w\")\n",
    "for line in interacted_tweets_text:\n",
    "    tweet_json=json.dumps({\"prompt\":\"\",\"completion\":line})\n",
    "    output_file.write(tweet_json +\"\\n\")\n",
    "output_file.close()"
   ]
  },
  {
   "cell_type": "markdown",
   "id": "e9c3a2df-940c-43fd-bb5f-a38dc888a39f",
   "metadata": {},
   "source": [
    "# Time to Fine Tune\n",
    "\n",
    "best to run these directly in a terminal since they are interactive commands"
   ]
  },
  {
   "cell_type": "code",
   "execution_count": 62,
   "id": "6dfc7abd-e219-47bd-bd5c-a57fc1ccf31e",
   "metadata": {},
   "outputs": [
    {
     "name": "stdout",
     "output_type": "stream",
     "text": [
      "Analyzing...\n",
      "\n",
      "- Your file contains 2775 prompt-completion pairs\n",
      "- The completion should start with a whitespace character (` `). This tends to produce better results due to the tokenization we use. See https://beta.openai.com/docs/guides/fine-tuning/preparing-your-dataset for more details\n",
      "\n",
      "Based on the analysis we will perform the following actions:\n",
      "- [Recommended] Add a whitespace character to the beginning of the completion [Y/n]: ^C\n",
      "\n"
     ]
    }
   ],
   "source": [
    "! openai tools fine_tunes.prepare_data -f openai_interacted_tweets_full.jsonl "
   ]
  },
  {
   "cell_type": "code",
   "execution_count": 63,
   "id": "f02973b1-415c-45d2-9dd1-bdf6ad68f144",
   "metadata": {},
   "outputs": [
    {
     "ename": "NameError",
     "evalue": "name 'y' is not defined",
     "output_type": "error",
     "traceback": [
      "\u001b[0;31m---------------------------------------------------------------------------\u001b[0m",
      "\u001b[0;31mNameError\u001b[0m                                 Traceback (most recent call last)",
      "Cell \u001b[0;32mIn [63], line 1\u001b[0m\n\u001b[0;32m----> 1\u001b[0m \u001b[43my\u001b[49m\n",
      "\u001b[0;31mNameError\u001b[0m: name 'y' is not defined"
     ]
    }
   ],
   "source": [
    "!openai api fine_tunes.create -t \"openai_interacted_tweets_full_prepared.jsonl\" -m davinci --suffix \"Faebot02\""
   ]
  },
  {
   "cell_type": "code",
   "execution_count": null,
   "id": "eb9eb5d3-a434-459c-8291-3b7aedd85373",
   "metadata": {},
   "outputs": [],
   "source": []
  }
 ],
 "metadata": {
  "kernelspec": {
   "display_name": "Python 3 (ipykernel)",
   "language": "python",
   "name": "python3"
  },
  "language_info": {
   "codemirror_mode": {
    "name": "ipython",
    "version": 3
   },
   "file_extension": ".py",
   "mimetype": "text/x-python",
   "name": "python",
   "nbconvert_exporter": "python",
   "pygments_lexer": "ipython3",
   "version": "3.10.8"
  }
 },
 "nbformat": 4,
 "nbformat_minor": 5
}
